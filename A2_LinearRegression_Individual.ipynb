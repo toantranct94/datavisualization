{
 "cells": [
  {
   "attachments": {},
   "cell_type": "markdown",
   "metadata": {},
   "source": [
    "# Homework Assignement Topic: Linear Regression\n",
    "\n",
    "### In this assignment a data set of a collection of cars, (mtcars) will be used to explore the relationship between a set of variables and miles per gallon (MPG) and will attempt to create a linear regression model of fuel economy (mpg) for providing a informed decision on which car to buy.\n",
    "\n",
    "#### Dataset: The data was extracted from the 1974 Motor Trend US magazine, and comprises fuel consumption and 10 aspects of automobile design and performance for 32 automobiles (1973--74 models). You will be provided the data set along with this file."
   ]
  },
  {
   "cell_type": "raw",
   "metadata": {},
   "source": [
    "mpg \tMiles/(US) gallon\n",
    "cyl \tNumber of cylinders\n",
    "disp\tDisplacement (cu.in.)\n",
    "hp\t    Gross horsepower\n",
    "drat\tRear axle ratio\n",
    "wt\t    Weight (1000 lbs)\n",
    "qsec\t1/4 mile time\n",
    "vs\t    Engine (0 = V-shaped, 1 = straight)\n",
    "am\t    Transmission (0 = automatic, 1 = manual)\n",
    "gear\tNumber of forward gears\n",
    "carb\tNumber of carburetors"
   ]
  },
  {
   "cell_type": "markdown",
   "metadata": {},
   "source": [
    "#### Loading the Required Modules & the Dataset"
   ]
  },
  {
   "cell_type": "code",
   "execution_count": 1,
   "metadata": {},
   "outputs": [],
   "source": [
    "import pandas as pd\n",
    "import numpy as np\n",
    "import seaborn as sns\n",
    "import matplotlib.pyplot as plt"
   ]
  },
  {
   "cell_type": "code",
   "execution_count": 2,
   "metadata": {},
   "outputs": [],
   "source": [
    "from IPython.core.interactiveshell import InteractiveShell\n",
    "InteractiveShell.ast_node_interactivity='all'"
   ]
  },
  {
   "cell_type": "code",
   "execution_count": 3,
   "metadata": {},
   "outputs": [],
   "source": [
    "data = pd.read_csv('./mtcars.csv')"
   ]
  },
  {
   "cell_type": "code",
   "execution_count": 4,
   "metadata": {},
   "outputs": [
    {
     "name": "stdout",
     "output_type": "stream",
     "text": [
      "<class 'pandas.core.frame.DataFrame'>\n",
      "RangeIndex: 32 entries, 0 to 31\n",
      "Data columns (total 12 columns):\n",
      " #   Column  Non-Null Count  Dtype  \n",
      "---  ------  --------------  -----  \n",
      " 0   model   32 non-null     object \n",
      " 1   mpg     32 non-null     float64\n",
      " 2   cyl     32 non-null     int64  \n",
      " 3   disp    32 non-null     float64\n",
      " 4   hp      32 non-null     int64  \n",
      " 5   drat    32 non-null     float64\n",
      " 6   wt      32 non-null     float64\n",
      " 7   qsec    32 non-null     float64\n",
      " 8   vs      32 non-null     int64  \n",
      " 9   am      32 non-null     int64  \n",
      " 10  gear    32 non-null     int64  \n",
      " 11  carb    32 non-null     int64  \n",
      "dtypes: float64(5), int64(6), object(1)\n",
      "memory usage: 3.1+ KB\n"
     ]
    }
   ],
   "source": [
    "data.info()"
   ]
  },
  {
   "cell_type": "code",
   "execution_count": 6,
   "metadata": {},
   "outputs": [
    {
     "data": {
      "text/html": [
       "<div>\n",
       "<style scoped>\n",
       "    .dataframe tbody tr th:only-of-type {\n",
       "        vertical-align: middle;\n",
       "    }\n",
       "\n",
       "    .dataframe tbody tr th {\n",
       "        vertical-align: top;\n",
       "    }\n",
       "\n",
       "    .dataframe thead th {\n",
       "        text-align: right;\n",
       "    }\n",
       "</style>\n",
       "<table border=\"1\" class=\"dataframe\">\n",
       "  <thead>\n",
       "    <tr style=\"text-align: right;\">\n",
       "      <th></th>\n",
       "      <th>mpg</th>\n",
       "      <th>cyl</th>\n",
       "      <th>disp</th>\n",
       "      <th>hp</th>\n",
       "      <th>drat</th>\n",
       "      <th>wt</th>\n",
       "      <th>qsec</th>\n",
       "      <th>vs</th>\n",
       "      <th>am</th>\n",
       "      <th>gear</th>\n",
       "      <th>carb</th>\n",
       "    </tr>\n",
       "  </thead>\n",
       "  <tbody>\n",
       "    <tr>\n",
       "      <th>count</th>\n",
       "      <td>32.000000</td>\n",
       "      <td>32.000000</td>\n",
       "      <td>32.000000</td>\n",
       "      <td>32.000000</td>\n",
       "      <td>32.000000</td>\n",
       "      <td>32.000000</td>\n",
       "      <td>32.000000</td>\n",
       "      <td>32.000000</td>\n",
       "      <td>32.000000</td>\n",
       "      <td>32.000000</td>\n",
       "      <td>32.0000</td>\n",
       "    </tr>\n",
       "    <tr>\n",
       "      <th>mean</th>\n",
       "      <td>20.090625</td>\n",
       "      <td>6.187500</td>\n",
       "      <td>230.721875</td>\n",
       "      <td>146.687500</td>\n",
       "      <td>3.596563</td>\n",
       "      <td>3.217250</td>\n",
       "      <td>17.848750</td>\n",
       "      <td>0.437500</td>\n",
       "      <td>0.406250</td>\n",
       "      <td>3.687500</td>\n",
       "      <td>2.8125</td>\n",
       "    </tr>\n",
       "    <tr>\n",
       "      <th>std</th>\n",
       "      <td>6.026948</td>\n",
       "      <td>1.785922</td>\n",
       "      <td>123.938694</td>\n",
       "      <td>68.562868</td>\n",
       "      <td>0.534679</td>\n",
       "      <td>0.978457</td>\n",
       "      <td>1.786943</td>\n",
       "      <td>0.504016</td>\n",
       "      <td>0.498991</td>\n",
       "      <td>0.737804</td>\n",
       "      <td>1.6152</td>\n",
       "    </tr>\n",
       "    <tr>\n",
       "      <th>min</th>\n",
       "      <td>10.400000</td>\n",
       "      <td>4.000000</td>\n",
       "      <td>71.100000</td>\n",
       "      <td>52.000000</td>\n",
       "      <td>2.760000</td>\n",
       "      <td>1.513000</td>\n",
       "      <td>14.500000</td>\n",
       "      <td>0.000000</td>\n",
       "      <td>0.000000</td>\n",
       "      <td>3.000000</td>\n",
       "      <td>1.0000</td>\n",
       "    </tr>\n",
       "    <tr>\n",
       "      <th>25%</th>\n",
       "      <td>15.425000</td>\n",
       "      <td>4.000000</td>\n",
       "      <td>120.825000</td>\n",
       "      <td>96.500000</td>\n",
       "      <td>3.080000</td>\n",
       "      <td>2.581250</td>\n",
       "      <td>16.892500</td>\n",
       "      <td>0.000000</td>\n",
       "      <td>0.000000</td>\n",
       "      <td>3.000000</td>\n",
       "      <td>2.0000</td>\n",
       "    </tr>\n",
       "    <tr>\n",
       "      <th>50%</th>\n",
       "      <td>19.200000</td>\n",
       "      <td>6.000000</td>\n",
       "      <td>196.300000</td>\n",
       "      <td>123.000000</td>\n",
       "      <td>3.695000</td>\n",
       "      <td>3.325000</td>\n",
       "      <td>17.710000</td>\n",
       "      <td>0.000000</td>\n",
       "      <td>0.000000</td>\n",
       "      <td>4.000000</td>\n",
       "      <td>2.0000</td>\n",
       "    </tr>\n",
       "    <tr>\n",
       "      <th>75%</th>\n",
       "      <td>22.800000</td>\n",
       "      <td>8.000000</td>\n",
       "      <td>326.000000</td>\n",
       "      <td>180.000000</td>\n",
       "      <td>3.920000</td>\n",
       "      <td>3.610000</td>\n",
       "      <td>18.900000</td>\n",
       "      <td>1.000000</td>\n",
       "      <td>1.000000</td>\n",
       "      <td>4.000000</td>\n",
       "      <td>4.0000</td>\n",
       "    </tr>\n",
       "    <tr>\n",
       "      <th>max</th>\n",
       "      <td>33.900000</td>\n",
       "      <td>8.000000</td>\n",
       "      <td>472.000000</td>\n",
       "      <td>335.000000</td>\n",
       "      <td>4.930000</td>\n",
       "      <td>5.424000</td>\n",
       "      <td>22.900000</td>\n",
       "      <td>1.000000</td>\n",
       "      <td>1.000000</td>\n",
       "      <td>5.000000</td>\n",
       "      <td>8.0000</td>\n",
       "    </tr>\n",
       "  </tbody>\n",
       "</table>\n",
       "</div>"
      ],
      "text/plain": [
       "             mpg        cyl        disp          hp       drat         wt  \\\n",
       "count  32.000000  32.000000   32.000000   32.000000  32.000000  32.000000   \n",
       "mean   20.090625   6.187500  230.721875  146.687500   3.596563   3.217250   \n",
       "std     6.026948   1.785922  123.938694   68.562868   0.534679   0.978457   \n",
       "min    10.400000   4.000000   71.100000   52.000000   2.760000   1.513000   \n",
       "25%    15.425000   4.000000  120.825000   96.500000   3.080000   2.581250   \n",
       "50%    19.200000   6.000000  196.300000  123.000000   3.695000   3.325000   \n",
       "75%    22.800000   8.000000  326.000000  180.000000   3.920000   3.610000   \n",
       "max    33.900000   8.000000  472.000000  335.000000   4.930000   5.424000   \n",
       "\n",
       "            qsec         vs         am       gear     carb  \n",
       "count  32.000000  32.000000  32.000000  32.000000  32.0000  \n",
       "mean   17.848750   0.437500   0.406250   3.687500   2.8125  \n",
       "std     1.786943   0.504016   0.498991   0.737804   1.6152  \n",
       "min    14.500000   0.000000   0.000000   3.000000   1.0000  \n",
       "25%    16.892500   0.000000   0.000000   3.000000   2.0000  \n",
       "50%    17.710000   0.000000   0.000000   4.000000   2.0000  \n",
       "75%    18.900000   1.000000   1.000000   4.000000   4.0000  \n",
       "max    22.900000   1.000000   1.000000   5.000000   8.0000  "
      ]
     },
     "execution_count": 6,
     "metadata": {},
     "output_type": "execute_result"
    }
   ],
   "source": [
    "data.describe()"
   ]
  },
  {
   "cell_type": "markdown",
   "metadata": {},
   "source": [
    "#### 1. Create separate plots of the mpg (miles per gallon) as the response, against each of disp, cyl and wt. Calculate the correlation between mpg and the three variables. Based on the correlation and plots, comment on which of these predictors seems most important?"
   ]
  },
  {
   "cell_type": "code",
   "execution_count": 5,
   "metadata": {},
   "outputs": [
    {
     "data": {
      "text/plain": [
       "<Figure size 1500x500 with 0 Axes>"
      ]
     },
     "execution_count": 5,
     "metadata": {},
     "output_type": "execute_result"
    },
    {
     "data": {
      "text/plain": [
       "<Axes: >"
      ]
     },
     "execution_count": 5,
     "metadata": {},
     "output_type": "execute_result"
    },
    {
     "data": {
      "text/plain": [
       "<Axes: xlabel='disp', ylabel='mpg'>"
      ]
     },
     "execution_count": 5,
     "metadata": {},
     "output_type": "execute_result"
    },
    {
     "data": {
      "text/plain": [
       "Text(0.5, 0, 'Displacement')"
      ]
     },
     "execution_count": 5,
     "metadata": {},
     "output_type": "execute_result"
    },
    {
     "data": {
      "text/plain": [
       "Text(0, 0.5, 'MPG')"
      ]
     },
     "execution_count": 5,
     "metadata": {},
     "output_type": "execute_result"
    },
    {
     "data": {
      "text/plain": [
       "<Axes: >"
      ]
     },
     "execution_count": 5,
     "metadata": {},
     "output_type": "execute_result"
    },
    {
     "data": {
      "text/plain": [
       "<Axes: xlabel='cyl', ylabel='mpg'>"
      ]
     },
     "execution_count": 5,
     "metadata": {},
     "output_type": "execute_result"
    },
    {
     "data": {
      "text/plain": [
       "Text(0.5, 0, 'Cylinders')"
      ]
     },
     "execution_count": 5,
     "metadata": {},
     "output_type": "execute_result"
    },
    {
     "data": {
      "text/plain": [
       "Text(0, 0.5, 'MPG')"
      ]
     },
     "execution_count": 5,
     "metadata": {},
     "output_type": "execute_result"
    },
    {
     "data": {
      "text/plain": [
       "<Axes: >"
      ]
     },
     "execution_count": 5,
     "metadata": {},
     "output_type": "execute_result"
    },
    {
     "data": {
      "text/plain": [
       "<Axes: xlabel='wt', ylabel='mpg'>"
      ]
     },
     "execution_count": 5,
     "metadata": {},
     "output_type": "execute_result"
    },
    {
     "data": {
      "text/plain": [
       "Text(0.5, 0, 'Weight')"
      ]
     },
     "execution_count": 5,
     "metadata": {},
     "output_type": "execute_result"
    },
    {
     "data": {
      "text/plain": [
       "Text(0, 0.5, 'MPG')"
      ]
     },
     "execution_count": 5,
     "metadata": {},
     "output_type": "execute_result"
    },
    {
     "data": {
      "image/png": "[encoded data removed]",
      "text/plain": [
       "<Figure size 1500x500 with 3 Axes>"
      ]
     },
     "metadata": {},
     "output_type": "display_data"
    },
    {
     "name": "stdout",
     "output_type": "stream",
     "text": [
      "           mpg      disp       cyl        wt\n",
      "mpg   1.000000 -0.847551 -0.852162 -0.867659\n",
      "disp -0.847551  1.000000  0.902033  0.887980\n",
      "cyl  -0.852162  0.902033  1.000000  0.782496\n",
      "wt   -0.867659  0.887980  0.782496  1.000000\n"
     ]
    }
   ],
   "source": [
    "#your code Solution\n",
    "plt.figure(figsize=(15, 5))\n",
    "\n",
    "plt.subplot(1, 3, 1)\n",
    "sns.scatterplot(data=data, x='disp', y='mpg')\n",
    "plt.xlabel('Displacement')\n",
    "plt.ylabel('MPG')\n",
    "\n",
    "plt.subplot(1, 3, 2)\n",
    "sns.scatterplot(data=data, x='cyl', y='mpg')\n",
    "plt.xlabel('Cylinders')\n",
    "plt.ylabel('MPG')\n",
    "\n",
    "plt.subplot(1, 3, 3)\n",
    "sns.scatterplot(data=data, x='wt', y='mpg')\n",
    "plt.xlabel('Weight')\n",
    "plt.ylabel('MPG')\n",
    "\n",
    "plt.tight_layout()\n",
    "plt.show()\n",
    "\n",
    "# Calculate correlations\n",
    "correlations = data[['mpg', 'disp', 'cyl', 'wt']].corr()\n",
    "print(correlations)\n"
   ]
  },
  {
   "cell_type": "raw",
   "metadata": {},
   "source": [
    "# wt seems most important"
   ]
  },
  {
   "cell_type": "markdown",
   "metadata": {},
   "source": [
    "####  2. Create a linear regression model that uses mpg as the response and the most correlated variable from (1) as predictor. Print out the summary result and answer the following:\n",
    " - what is the overall null hypothesis and what is the associated p-value? what do you conclude about H0?\n",
    " - What is the coefficient value and the 95% confidence interval on the coefficient associated with the predictor variable?\n",
    "Be quantitative and specific.\n"
   ]
  },
  {
   "cell_type": "code",
   "execution_count": 7,
   "metadata": {},
   "outputs": [
    {
     "name": "stdout",
     "output_type": "stream",
     "text": [
      "                            OLS Regression Results                            \n",
      "==============================================================================\n",
      "Dep. Variable:                    mpg   R-squared:                       0.753\n",
      "Model:                            OLS   Adj. R-squared:                  0.745\n",
      "Method:                 Least Squares   F-statistic:                     91.38\n",
      "Date:                Wed, 05 Jul 2023   Prob (F-statistic):           1.29e-10\n",
      "Time:                        07:36:28   Log-Likelihood:                -80.015\n",
      "No. Observations:                  32   AIC:                             164.0\n",
      "Df Residuals:                      30   BIC:                             167.0\n",
      "Df Model:                           1                                         \n",
      "Covariance Type:            nonrobust                                         \n",
      "==============================================================================\n",
      "                 coef    std err          t      P>|t|      [0.025      0.975]\n",
      "------------------------------------------------------------------------------\n",
      "const         37.2851      1.878     19.858      0.000      33.450      41.120\n",
      "wt            -5.3445      0.559     -9.559      0.000      -6.486      -4.203\n",
      "==============================================================================\n",
      "Omnibus:                        2.988   Durbin-Watson:                   1.252\n",
      "Prob(Omnibus):                  0.225   Jarque-Bera (JB):                2.399\n",
      "Skew:                           0.668   Prob(JB):                        0.301\n",
      "Kurtosis:                       2.877   Cond. No.                         12.7\n",
      "==============================================================================\n",
      "\n",
      "Notes:\n",
      "[1] Standard Errors assume that the covariance matrix of the errors is correctly specified.\n"
     ]
    }
   ],
   "source": [
    "#your code here\n",
    "import statsmodels.api as sm\n",
    "model = sm.OLS(data['mpg'], sm.add_constant(data['wt']))\n",
    "results = model.fit()\n",
    "\n",
    "# Print the summary result\n",
    "print(results.summary())"
   ]
  },
  {
   "cell_type": "raw",
   "metadata": {},
   "source": [
    "Explaination:\n",
    "\n",
    "In the linear regression model with MPG as the response variable and weight (wt) as the predictor variable, the summary results are as follows:\n",
    "\n",
    "The overall null hypothesis (H0) in this context is that there is no relationship between the weight of a car and its MPG. The associated p-value (P>|t|) for the wt coefficient is 0.000, which is less than the significance level of 0.05.\n",
    "Based on this p-value, we reject the null hypothesis (H0) and conclude that there is a significant relationship between the weight of a car and its MPG. In other words, weight is a statistically significant predictor of MPG.\n",
    "\n",
    "The coefficient value for the wt variable is -5.3445. This indicates that, on average, for every unit increase in weight (in thousands of pounds), the MPG decreases by 5.3445 units.\n",
    "The 95% confidence interval on the coefficient associated with the wt predictor variable is [-6.486, -4.203]. This means that we can be 95% confident that the true population coefficient lies within this range."
   ]
  },
  {
   "cell_type": "markdown",
   "metadata": {},
   "source": [
    "#### 3. Again using the mtcars data, create a linear regression model that uses mpg as the response and both disp and wt score as predictors. Print out the summary result and compare with the results in (2). Based on the multivariate model:\n",
    " - Which predictor variables are significant and how did you determine this?\n",
    " - What are two assumptions one make's about residuals?\n",
    " - Create a plot of the residuals versus fitted values. Does the plot suggest that are assumptions are met? Why or why not?\n"
   ]
  },
  {
   "cell_type": "code",
   "execution_count": 9,
   "metadata": {},
   "outputs": [
    {
     "name": "stdout",
     "output_type": "stream",
     "text": [
      "                            OLS Regression Results                            \n",
      "==============================================================================\n",
      "Dep. Variable:                    mpg   R-squared:                       0.781\n",
      "Model:                            OLS   Adj. R-squared:                  0.766\n",
      "Method:                 Least Squares   F-statistic:                     51.69\n",
      "Date:                Wed, 05 Jul 2023   Prob (F-statistic):           2.74e-10\n",
      "Time:                        07:38:16   Log-Likelihood:                -78.084\n",
      "No. Observations:                  32   AIC:                             162.2\n",
      "Df Residuals:                      29   BIC:                             166.6\n",
      "Df Model:                           2                                         \n",
      "Covariance Type:            nonrobust                                         \n",
      "==============================================================================\n",
      "                 coef    std err          t      P>|t|      [0.025      0.975]\n",
      "------------------------------------------------------------------------------\n",
      "const         34.9606      2.165     16.151      0.000      30.534      39.388\n",
      "disp          -0.0177      0.009     -1.929      0.064      -0.037       0.001\n",
      "wt            -3.3508      1.164     -2.878      0.007      -5.732      -0.970\n",
      "==============================================================================\n",
      "Omnibus:                        4.079   Durbin-Watson:                   1.277\n",
      "Prob(Omnibus):                  0.130   Jarque-Bera (JB):                3.665\n",
      "Skew:                           0.812   Prob(JB):                        0.160\n",
      "Kurtosis:                       2.666   Cond. No.                     1.21e+03\n",
      "==============================================================================\n",
      "\n",
      "Notes:\n",
      "[1] Standard Errors assume that the covariance matrix of the errors is correctly specified.\n",
      "[2] The condition number is large, 1.21e+03. This might indicate that there are\n",
      "strong multicollinearity or other numerical problems.\n"
     ]
    }
   ],
   "source": [
    "#your code here\n",
    "# Create the linear regression model with disp and wt as predictors\n",
    "model_multivariate = sm.OLS(data['mpg'], sm.add_constant(data[['disp', 'wt']]))\n",
    "results_multivariate = model_multivariate.fit()\n",
    "\n",
    "# Print the summary result\n",
    "print(results_multivariate.summary())"
   ]
  },
  {
   "cell_type": "raw",
   "metadata": {},
   "source": [
    "Explaination:\n",
    "\n",
    "The predictor variables disp and wt are both included in the model. To determine the significance of predictor variables, we can examine the p-values (P>|t|) associated with their coefficients. In this case:\n",
    "The p-value for the disp coefficient is 0.064, which is greater than the significance level of 0.05. Therefore, we do not have enough evidence to reject the null hypothesis for disp and conclude that it is not a significant predictor of MPG at a 5% significance level.\n",
    "The p-value for the wt coefficient is 0.007, which is less than the significance level of 0.05. Hence, we reject the null hypothesis for wt and conclude that it is a significant predictor of MPG at a 5% significance level.\n",
    "Based on the p-values, the significant predictor variable in this model is wt (weight), while disp (displacement) is not a significant predictor.\n",
    "\n",
    "Two assumptions about residuals in linear regression are:\n",
    "Independence: The residuals should be independent of each other, meaning there should be no pattern or correlation in the residuals.\n",
    "Normality: The residuals should follow a normal distribution with a mean of zero.\n",
    "To assess these assumptions, we can create a plot of the residuals versus the fitted values."
   ]
  },
  {
   "cell_type": "code",
   "execution_count": 13,
   "metadata": {},
   "outputs": [
    {
     "data": {
      "text/plain": [
       "<matplotlib.collections.PathCollection at 0x7fe9b96e3a90>"
      ]
     },
     "execution_count": 13,
     "metadata": {},
     "output_type": "execute_result"
    },
    {
     "data": {
      "text/plain": [
       "Text(0.5, 0, 'Fitted Values')"
      ]
     },
     "execution_count": 13,
     "metadata": {},
     "output_type": "execute_result"
    },
    {
     "data": {
      "text/plain": [
       "Text(0, 0.5, 'Residuals')"
      ]
     },
     "execution_count": 13,
     "metadata": {},
     "output_type": "execute_result"
    },
    {
     "data": {
      "text/plain": [
       "Text(0.5, 1.0, 'Residuals vs Fitted Values')"
      ]
     },
     "execution_count": 13,
     "metadata": {},
     "output_type": "execute_result"
    },
    {
     "data": {
      "text/plain": [
       "<matplotlib.lines.Line2D at 0x7fe99010d1b0>"
      ]
     },
     "execution_count": 13,
     "metadata": {},
     "output_type": "execute_result"
    },
    {
     "data": {
      "image/png": "[encoded data removed]",
      "text/plain": [
       "<Figure size 640x480 with 1 Axes>"
      ]
     },
     "metadata": {},
     "output_type": "display_data"
    }
   ],
   "source": [
    "# Create a plot of residuals versus fitted values\n",
    "fitted_values = results_multivariate.fittedvalues\n",
    "residuals = results_multivariate.resid\n",
    "\n",
    "plt.scatter(fitted_values, residuals)\n",
    "plt.xlabel('Fitted Values')\n",
    "plt.ylabel('Residuals')\n",
    "plt.title('Residuals vs Fitted Values')\n",
    "plt.axhline(y=0, color='r', linestyle='--')\n",
    "plt.show()"
   ]
  },
  {
   "cell_type": "markdown",
   "metadata": {},
   "source": [
    "#### 4. Now use the prediction model from the problem (3) above, predict the average mpg for a car with a weight of 3500 lbs and a displacement of 200 cu in.?"
   ]
  },
  {
   "cell_type": "code",
   "execution_count": 10,
   "metadata": {},
   "outputs": [
    {
     "name": "stdout",
     "output_type": "stream",
     "text": [
      "Predicted average MPG: [-11696.47306154]\n"
     ]
    }
   ],
   "source": [
    "#your code here\n",
    "weight = 3500\n",
    "displacement = 200\n",
    "predictors = [1, displacement, weight]\n",
    "predicted_mpg = results_multivariate.predict(predictors)\n",
    "print(\"Predicted average MPG:\", predicted_mpg)"
   ]
  },
  {
   "cell_type": "markdown",
   "metadata": {},
   "source": [
    "#### 5. Consider cyl as an additional predictor for the above model in problem (3):\n",
    "\n",
    " - Create a plot of the number of cylinders, cyl as a predictor against mpg. Is cyl an important predictor?\n",
    " - Create a new model that uses cyl as an additional predictor variable (along with disp and wt) and print out summary result.\n",
    " - What does the cyl coefficient represent? Is cyl a continuous or categorical predictor? \n",
    " - Does including cyl improve model fit? How would you know?"
   ]
  },
  {
   "cell_type": "code",
   "execution_count": 15,
   "metadata": {},
   "outputs": [
    {
     "data": {
      "text/plain": [
       "<Axes: xlabel='cyl', ylabel='mpg'>"
      ]
     },
     "execution_count": 15,
     "metadata": {},
     "output_type": "execute_result"
    },
    {
     "data": {
      "text/plain": [
       "Text(0.5, 0, 'Cylinders')"
      ]
     },
     "execution_count": 15,
     "metadata": {},
     "output_type": "execute_result"
    },
    {
     "data": {
      "text/plain": [
       "Text(0, 0.5, 'MPG')"
      ]
     },
     "execution_count": 15,
     "metadata": {},
     "output_type": "execute_result"
    },
    {
     "data": {
      "image/png": "[encoded data removed]",
      "text/plain": [
       "<Figure size 640x480 with 1 Axes>"
      ]
     },
     "metadata": {},
     "output_type": "display_data"
    }
   ],
   "source": [
    "sns.scatterplot(data=data, x='cyl', y='mpg')\n",
    "plt.xlabel('Cylinders')\n",
    "plt.ylabel('MPG')\n",
    "plt.show()"
   ]
  },
  {
   "cell_type": "code",
   "execution_count": 12,
   "metadata": {},
   "outputs": [
    {
     "name": "stdout",
     "output_type": "stream",
     "text": [
      "                            OLS Regression Results                            \n",
      "==============================================================================\n",
      "Dep. Variable:                    mpg   R-squared:                       0.833\n",
      "Model:                            OLS   Adj. R-squared:                  0.815\n",
      "Method:                 Least Squares   F-statistic:                     46.42\n",
      "Date:                Wed, 05 Jul 2023   Prob (F-statistic):           5.40e-11\n",
      "Time:                        07:38:52   Log-Likelihood:                -73.779\n",
      "No. Observations:                  32   AIC:                             155.6\n",
      "Df Residuals:                      28   BIC:                             161.4\n",
      "Df Model:                           3                                         \n",
      "Covariance Type:            nonrobust                                         \n",
      "==============================================================================\n",
      "                 coef    std err          t      P>|t|      [0.025      0.975]\n",
      "------------------------------------------------------------------------------\n",
      "const         41.1077      2.842     14.462      0.000      35.285      46.930\n",
      "disp           0.0075      0.012      0.631      0.533      -0.017       0.032\n",
      "wt            -3.6357      1.040     -3.495      0.002      -5.766      -1.505\n",
      "cyl           -1.7849      0.607     -2.940      0.007      -3.029      -0.541\n",
      "==============================================================================\n",
      "Omnibus:                        4.425   Durbin-Watson:                   1.707\n",
      "Prob(Omnibus):                  0.109   Jarque-Bera (JB):                3.145\n",
      "Skew:                           0.746   Prob(JB):                        0.208\n",
      "Kurtosis:                       3.361   Cond. No.                     1.68e+03\n",
      "==============================================================================\n",
      "\n",
      "Notes:\n",
      "[1] Standard Errors assume that the covariance matrix of the errors is correctly specified.\n",
      "[2] The condition number is large, 1.68e+03. This might indicate that there are\n",
      "strong multicollinearity or other numerical problems.\n"
     ]
    }
   ],
   "source": [
    "\n",
    "model_additional_predictor = sm.OLS(data['mpg'], sm.add_constant(data[['disp', 'wt', 'cyl']]))\n",
    "results_additional_predictor = model_additional_predictor.fit()\n",
    "\n",
    "# Print the summary result\n",
    "print(results_additional_predictor.summary())"
   ]
  },
  {
   "cell_type": "raw",
   "metadata": {},
   "source": [
    "The 'cyl' coefficient represents the expected change in MPG for each unit increase in the number of cylinders, while holding the values of 'disp' and 'wt' constant.\n",
    "The 'cyl' variable is a categorical predictor with three distinct values: 4, 6, and 8 cylinders.\n",
    "\n",
    "To assess whether including 'cyl' improves the model fit, we can compare the R-squared and adjusted R-squared values of the new model (with 'cyl', 'disp', and 'wt') to the previous model (with only 'disp' and 'wt').\n",
    "If the R-squared and adjusted R-squared values increase in the new model, it suggests that including 'cyl' improves the model fit.\n",
    "Additionally, we can use the F-test to compare the overall model fit between the models.\n",
    "If the F-statistic is significant, it indicates a significant improvement in model fit by including 'cyl' as a predictor."
   ]
  }
 ],
 "metadata": {
  "kernelspec": {
   "display_name": "Python 3",
   "language": "python",
   "name": "python3"
  },
  "language_info": {
   "codemirror_mode": {
    "name": "ipython",
    "version": 3
   },
   "file_extension": ".py",
   "mimetype": "text/x-python",
   "name": "python",
   "nbconvert_exporter": "python",
   "pygments_lexer": "ipython3",
   "version": "3.10.9"
  }
 },
 "nbformat": 4,
 "nbformat_minor": 1
}
